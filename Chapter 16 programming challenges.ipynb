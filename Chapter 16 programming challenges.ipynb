{
 "cells": [
  {
   "cell_type": "markdown",
   "metadata": {},
   "source": [
    "# # Chapter 16- Programming challenges\n",
    "BY R Sreelekshmi"
   ]
  },
  {
   "cell_type": "markdown",
   "metadata": {},
   "source": [
    "**Program 28-Lines cheat**"
   ]
  },
  {
   "cell_type": "code",
   "execution_count": 2,
   "metadata": {},
   "outputs": [
    {
     "name": "stdout",
     "output_type": "stream",
     "text": [
      "Which sentence would you like copied?\n",
      "Don't behave like a muppet in class.\n",
      "\n",
      "\n",
      "Don't behave like a muppet in class.\n",
      "Don't behave like a muppet in class.\n",
      "Don't behave like a muppet in class.\n",
      "Don't behave like a muppet in class.\n",
      "Don't behave like a muppet in class.\n",
      "Don't behave like a muppet in class.\n",
      "Don't behave like a muppet in class.\n",
      "Don't behave like a muppet in class.\n",
      "Don't behave like a muppet in class.\n",
      "Don't behave like a muppet in class.\n",
      "Don't behave like a muppet in class.\n",
      "Don't behave like a muppet in class.\n",
      "Don't behave like a muppet in class.\n",
      "Don't behave like a muppet in class.\n",
      "Don't behave like a muppet in class.\n",
      "Don't behave like a muppet in class.\n",
      "Don't behave like a muppet in class.\n",
      "Don't behave like a muppet in class.\n",
      "Don't behave like a muppet in class.\n",
      "Don't behave like a muppet in class.\n"
     ]
    }
   ],
   "source": [
    "s=input(\"Which sentence would you like copied?\\n\")\n",
    "print(\"\\n\")\n",
    "for c in range(20):\n",
    "    print(s)"
   ]
  },
  {
   "cell_type": "markdown",
   "metadata": {},
   "source": [
    "**Program 29-Charity collection (part 3)**"
   ]
  },
  {
   "cell_type": "code",
   "execution_count": 3,
   "metadata": {},
   "outputs": [
    {
     "name": "stdout",
     "output_type": "stream",
     "text": [
      "Please enter the first amount raised.\n",
      "398\n",
      "Please enter the second amount raised.\n",
      "193\n",
      "Please enter the third amount raised.\n",
      "478\n",
      "\n",
      "\n",
      "A total of £ 1069 was raised.\n",
      "This will be doubled to:\n",
      "£ 2138 !!!\n",
      "£ 2138 !!!\n",
      "£ 2138 !!!\n"
     ]
    }
   ],
   "source": [
    "f=int(input(\"Please enter the first amount raised.\\n\"))\n",
    "s=int(input(\"Please enter the second amount raised.\\n\"))\n",
    "t=int(input(\"Please enter the third amount raised.\\n\"))\n",
    "total=f+s+t\n",
    "print(\"\\n\")\n",
    "print(\"A total of £\",total,\"was raised.\")\n",
    "if total<1000:\n",
    "    total=total+100\n",
    "    print(\"With the company bonus, this is:\")\n",
    "    for c in range(3):\n",
    "        print(\"£\",total,\"!!!\")\n",
    "elif total<2000 and total>1000:\n",
    "    print(\"This will be doubled to:\")\n",
    "    for c in range(3):\n",
    "        print(\"£\",2*total,\"!!!\")\n",
    "else:\n",
    "    rem=total-2000\n",
    "    total=4000+rem\n",
    "    print(\"With the company bonus, this is:\")\n",
    "    for c in range(3):\n",
    "        print(\"£\",total,\"!!!\")\n",
    "    "
   ]
  },
  {
   "cell_type": "markdown",
   "metadata": {},
   "source": [
    "**Program 30-Name switch**"
   ]
  },
  {
   "cell_type": "code",
   "execution_count": 8,
   "metadata": {},
   "outputs": [
    {
     "name": "stdout",
     "output_type": "stream",
     "text": [
      "Please enter first name:\n",
      "Matt\n",
      "Please enter surname:\n",
      "Reid\n",
      "\n",
      "\n",
      "M R MATT reid MattReid\n",
      "MattReid REID matt r m\n",
      "M R MATT reid MattReid\n",
      "MattReid REID matt r m\n",
      "M R MATT reid MattReid\n",
      "MattReid REID matt r m\n"
     ]
    }
   ],
   "source": [
    "fn=input(\"Please enter first name:\\n\")\n",
    "sn=input(\"Please enter surname:\\n\")\n",
    "print(\"\\n\")\n",
    "for c in range(3):\n",
    "    print(fn[0:1].upper(),sn[0:1].upper(),fn.upper(),sn.lower(),fn+sn)\n",
    "    print(fn+sn,sn.upper(),fn.lower(),sn[0:1].lower(),fn[0:1].lower())"
   ]
  },
  {
   "cell_type": "markdown",
   "metadata": {},
   "source": [
    "**Program 31-Cricket Over**"
   ]
  },
  {
   "cell_type": "code",
   "execution_count": 10,
   "metadata": {},
   "outputs": [
    {
     "name": "stdout",
     "output_type": "stream",
     "text": [
      "Please enter the score for each ball.\n",
      "0\n",
      "2\n",
      "0\n",
      "0\n",
      "4\n",
      "6\n",
      "\n",
      "\n",
      "This over's score was: 12\n"
     ]
    }
   ],
   "source": [
    "total=0\n",
    "print(\"Please enter the score for each ball.\")\n",
    "for c in range(6):\n",
    "    score=int(input())\n",
    "    total=total+score\n",
    "print(\"\\n\")\n",
    "print(\"This over's score was:\",total)"
   ]
  },
  {
   "cell_type": "markdown",
   "metadata": {},
   "source": [
    "**Program 32-Average temperature**"
   ]
  },
  {
   "cell_type": "code",
   "execution_count": 11,
   "metadata": {},
   "outputs": [
    {
     "name": "stdout",
     "output_type": "stream",
     "text": [
      "Please enter the seven temperatures.\n",
      "12\n",
      "14\n",
      "7\n",
      "6\n",
      "7\n",
      "11\n",
      "11\n",
      "\n",
      "\n",
      "This week's average was:\n",
      "9.71 degrees centigrade\n"
     ]
    }
   ],
   "source": [
    "print(\"Please enter the seven temperatures.\")\n",
    "total=0\n",
    "for c in range(7):\n",
    "    temp=int(input())\n",
    "    total=total+temp\n",
    "print(\"\\n\")\n",
    "avg=total/7\n",
    "print(\"This week's average was:\")\n",
    "print(round(avg,2),\"degrees centigrade\")"
   ]
  },
  {
   "cell_type": "markdown",
   "metadata": {},
   "source": [
    "**Program 33-Lines cheat (part 2)**"
   ]
  },
  {
   "cell_type": "code",
   "execution_count": 12,
   "metadata": {},
   "outputs": [
    {
     "name": "stdout",
     "output_type": "stream",
     "text": [
      "Which sentence would you like copied?\n",
      "Mr Reid is the best teacher.\n",
      "How many times would you like this copied?\n",
      "54\n",
      "\n",
      "\n",
      "Mr Reid is the best teacher.\n",
      "Mr Reid is the best teacher.\n",
      "Mr Reid is the best teacher.\n",
      "Mr Reid is the best teacher.\n",
      "Mr Reid is the best teacher.\n",
      "Mr Reid is the best teacher.\n",
      "Mr Reid is the best teacher.\n",
      "Mr Reid is the best teacher.\n",
      "Mr Reid is the best teacher.\n",
      "Mr Reid is the best teacher.\n",
      "Mr Reid is the best teacher.\n",
      "Mr Reid is the best teacher.\n",
      "Mr Reid is the best teacher.\n",
      "Mr Reid is the best teacher.\n",
      "Mr Reid is the best teacher.\n",
      "Mr Reid is the best teacher.\n",
      "Mr Reid is the best teacher.\n",
      "Mr Reid is the best teacher.\n",
      "Mr Reid is the best teacher.\n",
      "Mr Reid is the best teacher.\n",
      "Mr Reid is the best teacher.\n",
      "Mr Reid is the best teacher.\n",
      "Mr Reid is the best teacher.\n",
      "Mr Reid is the best teacher.\n",
      "Mr Reid is the best teacher.\n",
      "Mr Reid is the best teacher.\n",
      "Mr Reid is the best teacher.\n",
      "Mr Reid is the best teacher.\n",
      "Mr Reid is the best teacher.\n",
      "Mr Reid is the best teacher.\n",
      "Mr Reid is the best teacher.\n",
      "Mr Reid is the best teacher.\n",
      "Mr Reid is the best teacher.\n",
      "Mr Reid is the best teacher.\n",
      "Mr Reid is the best teacher.\n",
      "Mr Reid is the best teacher.\n",
      "Mr Reid is the best teacher.\n",
      "Mr Reid is the best teacher.\n",
      "Mr Reid is the best teacher.\n",
      "Mr Reid is the best teacher.\n",
      "Mr Reid is the best teacher.\n",
      "Mr Reid is the best teacher.\n",
      "Mr Reid is the best teacher.\n",
      "Mr Reid is the best teacher.\n",
      "Mr Reid is the best teacher.\n",
      "Mr Reid is the best teacher.\n",
      "Mr Reid is the best teacher.\n",
      "Mr Reid is the best teacher.\n",
      "Mr Reid is the best teacher.\n",
      "Mr Reid is the best teacher.\n",
      "Mr Reid is the best teacher.\n",
      "Mr Reid is the best teacher.\n",
      "Mr Reid is the best teacher.\n",
      "Mr Reid is the best teacher.\n"
     ]
    }
   ],
   "source": [
    "s=input(\"Which sentence would you like copied?\\n\")\n",
    "n=int(input(\"How many times would you like this copied?\\n\"))\n",
    "print(\"\\n\")\n",
    "for c in range(n):\n",
    "    print(s)"
   ]
  },
  {
   "cell_type": "markdown",
   "metadata": {},
   "source": [
    "**Program 34-Charity collection (part 4)**"
   ]
  },
  {
   "cell_type": "code",
   "execution_count": 15,
   "metadata": {},
   "outputs": [
    {
     "name": "stdout",
     "output_type": "stream",
     "text": [
      "How many charity raisers were there?\n",
      "6\n",
      "Enter the total raised by each:\n",
      "238\n",
      "624\n",
      "546\n",
      "333\n",
      "651\n",
      "174\n",
      "\n",
      "\n",
      "A total of £ 2566 was raised.\n",
      "This will be increased to:\n",
      "£ 4566 !!!\n",
      "£ 4566 !!!\n",
      "£ 4566 !!!\n"
     ]
    }
   ],
   "source": [
    "n=int(input(\"How many charity raisers were there?\\n\"))\n",
    "total=0\n",
    "print(\"Enter the total raised by each:\")\n",
    "for c in range(n):\n",
    "    val=int(input())\n",
    "    total=total+val\n",
    "print(\"\\n\")\n",
    "print(\"A total of £\",total,\"was raised.\")\n",
    "if total<1000:\n",
    "    total=total+100\n",
    "    print(\"With the company bonus, this is:\")\n",
    "    for c in range(3):\n",
    "        print(\"£\",total,\"!!!\")\n",
    "elif total<2000 and total>1000:\n",
    "    print(\"This will be doubled to:\")\n",
    "    for c in range(3):\n",
    "        print(\"£\",2*total,\"!!!\")\n",
    "else:\n",
    "    rem=total-2000\n",
    "    total=4000+rem\n",
    "    print(\"This will be increased to:\")\n",
    "    for c in range(3):\n",
    "        print(\"£\",total,\"!!!\")"
   ]
  },
  {
   "cell_type": "markdown",
   "metadata": {},
   "source": [
    "**Program 35- Press up challenge**"
   ]
  },
  {
   "cell_type": "code",
   "execution_count": 17,
   "metadata": {},
   "outputs": [
    {
     "name": "stdout",
     "output_type": "stream",
     "text": [
      "Please enter the number of students:\n",
      "3\n",
      "Enter the time in seconds for each student.\n",
      "Student 1\n",
      "82\n",
      "Student 2\n",
      "67\n",
      "Student 3\n",
      "45\n",
      "\n",
      "\n",
      "The average  time for the 3 students was:\n",
      "64.67 seconds\n"
     ]
    }
   ],
   "source": [
    "n=int(input(\"Please enter the number of students:\\n\"))\n",
    "print(\"Enter the time in seconds for each student.\")\n",
    "total=0;\n",
    "for c in range(n):\n",
    "    print(\"Student\",c+1)\n",
    "    time=int(input())\n",
    "    total=total+time\n",
    "print(\"\\n\")\n",
    "avg=total/n\n",
    "print(\"The average  time for the\",n,\"students was:\")\n",
    "print(round(avg,2),\"seconds\")"
   ]
  },
  {
   "cell_type": "markdown",
   "metadata": {},
   "source": [
    "**Program 36- Number patterns**"
   ]
  },
  {
   "cell_type": "code",
   "execution_count": 19,
   "metadata": {},
   "outputs": [
    {
     "name": "stdout",
     "output_type": "stream",
     "text": [
      "Odd Numbers List\n",
      "1\n",
      "3\n",
      "5\n",
      "7\n",
      "9\n",
      "11\n"
     ]
    }
   ],
   "source": [
    "print(\"Odd Numbers List\")\n",
    "for c in range(1,12,2):\n",
    " print(c)"
   ]
  },
  {
   "cell_type": "markdown",
   "metadata": {},
   "source": [
    "**Program 37- Number pattern (part 2)**"
   ]
  },
  {
   "cell_type": "code",
   "execution_count": 20,
   "metadata": {},
   "outputs": [
    {
     "name": "stdout",
     "output_type": "stream",
     "text": [
      "The following program will display odd numbers.\n",
      "Enter the first number in the list\n",
      "5\n",
      "Enter the last number in the list\n",
      "13\n",
      "\n",
      "\n",
      "Odd Numbers List\n",
      "5\n",
      "7\n",
      "9\n",
      "11\n",
      "13\n"
     ]
    }
   ],
   "source": [
    "print(\"The following program will display odd numbers.\")\n",
    "fn=int(input(\"Enter the first number in the list\\n\"))\n",
    "ln=int(input(\"Enter the last number in the list\\n\"))\n",
    "print(\"\\n\")\n",
    "print(\"Odd Numbers List\")\n",
    "for c in range(fn,ln+1,2):\n",
    " print(c)"
   ]
  },
  {
   "cell_type": "markdown",
   "metadata": {},
   "source": [
    "**Program 38- Password**"
   ]
  },
  {
   "cell_type": "code",
   "execution_count": 1,
   "metadata": {},
   "outputs": [
    {
     "name": "stdout",
     "output_type": "stream",
     "text": [
      "Please enter the password.\n",
      "snool\n",
      "Sorry, incorrect! Try again.\n",
      "Please enter the password.\n",
      "ornery\n",
      "Entry gained!\n"
     ]
    }
   ],
   "source": [
    "password=\"null\"\n",
    "while password!=\"ornery\":\n",
    "    pw=input(\"Please enter the password.\\n\")\n",
    "    if pw==\"ornery\":\n",
    "     print(\"Entry gained!\")\n",
    "    else:\n",
    "        print(\"Sorry, incorrect! Try again.\")\n",
    "    password=pw"
   ]
  },
  {
   "cell_type": "markdown",
   "metadata": {},
   "source": [
    "**Program 39- Number pattern (part 3)**"
   ]
  },
  {
   "cell_type": "code",
   "execution_count": 4,
   "metadata": {},
   "outputs": [
    {
     "name": "stdout",
     "output_type": "stream",
     "text": [
      "The following program will display odd numbers.\n",
      "Enter the first number in the list\n",
      "5\n",
      "Enter the last number in the list\n",
      "17\n",
      "Sorry, the number must be at least 25\n",
      "Please re-enter the number\n",
      "27\n",
      "\n",
      "\n",
      "Odd Numbers List\n",
      "5\n",
      "7\n",
      "9\n",
      "11\n",
      "13\n",
      "15\n",
      "17\n",
      "19\n",
      "21\n",
      "23\n",
      "25\n",
      "27\n"
     ]
    }
   ],
   "source": [
    "print(\"The following program will display odd numbers.\")\n",
    "fn=int(input(\"Enter the first number in the list\\n\"))\n",
    "ln=int(input(\"Enter the last number in the list\\n\"))\n",
    "\n",
    "while ln<(fn+20):\n",
    "    print(\"Sorry, the number must be at least\",fn+20)\n",
    "    ln=int(input(\"Please re-enter the number\\n\"))\n",
    "\n",
    "print(\"\\n\")\n",
    "      \n",
    "print(\"Odd Numbers List\")\n",
    "for c in range(fn,ln+1,2):\n",
    " print(c)"
   ]
  },
  {
   "cell_type": "markdown",
   "metadata": {},
   "source": [
    "**Program 40-Advice please (part 3)**"
   ]
  },
  {
   "cell_type": "code",
   "execution_count": 2,
   "metadata": {},
   "outputs": [
    {
     "name": "stdout",
     "output_type": "stream",
     "text": [
      "Would you like some advice?\n",
      "H\n",
      "Please enter Y or N only.\n",
      "Would you like some advice?\n",
      "N\n",
      "Don't be silly. You definitely need advice!\n",
      "Would you like some advice?\n",
      "Y\n",
      "Don't feed the trolls!\n"
     ]
    }
   ],
   "source": [
    "res=str(input(\"Would you like some advice?\\n\"))\n",
    "\n",
    "while res!=\"Y\":\n",
    "  if res==\"N\":\n",
    "    print(\"Don't be silly. You definitely need advice!\")\n",
    "    res=str(input(\"Would you like some advice?\\n\"))\n",
    "  else:\n",
    "    print(\"Please enter Y or N only.\")\n",
    "    res=str(input(\"Would you like some advice?\\n\"))\n",
    "    \n",
    "if res==\"Y\":\n",
    " print(\"Don't feed the trolls!\")"
   ]
  },
  {
   "cell_type": "markdown",
   "metadata": {},
   "source": [
    "**Program 41- No more presents**"
   ]
  },
  {
   "cell_type": "code",
   "execution_count": 4,
   "metadata": {},
   "outputs": [
    {
     "name": "stdout",
     "output_type": "stream",
     "text": [
      "Please enter the price of each present:\n",
      "35\n",
      "100\n",
      "50\n",
      "45\n",
      "\n",
      "\n",
      "Limit Exceeded.\n",
      "You can't include the £ 45 present.\n"
     ]
    }
   ],
   "source": [
    "print(\"Please enter the price of each present:\")\n",
    "total=0\n",
    "while total<=200 :\n",
    "    price=int(input())\n",
    "    total=total+price\n",
    "print(\"\\n\")\n",
    "print(\"Limit Exceeded.\")\n",
    "print(\"You can't include the £\",price,\"present.\")"
   ]
  },
  {
   "cell_type": "markdown",
   "metadata": {},
   "source": [
    "**Program 42- Menu System**"
   ]
  },
  {
   "cell_type": "code",
   "execution_count": 4,
   "metadata": {},
   "outputs": [
    {
     "name": "stdout",
     "output_type": "stream",
     "text": [
      "Enter your menu choice (Q,A,K or L)\n",
      "V\n",
      "V is not valid. Enter Q, A, K or L\n",
      "L\n",
      "L selected\n"
     ]
    }
   ],
   "source": [
    "choice=input(\"Enter your menu choice (Q,A,K or L)\\n\")\n",
    "\n",
    "while choice!=\"a\" and choice!=\"A\" and choice!=\"q\" and choice!=\"Q\" and choice!=\"k\" and choice!=\"K\" and choice!=\"l\" and choice!=\"L\" : \n",
    "  print(choice,\"is not valid. Enter Q, A, K or L\")\n",
    "  choice=input()\n",
    "print(choice,\"selected\")"
   ]
  },
  {
   "cell_type": "markdown",
   "metadata": {},
   "source": [
    "**Program 43- Guess the number**"
   ]
  },
  {
   "cell_type": "code",
   "execution_count": 2,
   "metadata": {},
   "outputs": [
    {
     "name": "stdout",
     "output_type": "stream",
     "text": [
      "Guess the hidden number between 1 and 100.\n",
      "Enter your guess.\n",
      "112\n",
      "Your guess was not valid. Enter it again.\n",
      "67\n",
      "Your guess is too high. Try again.\n",
      "50\n",
      "Your guess is too low. Try again.\n",
      "52\n",
      "Correct! Well Done.\n"
     ]
    }
   ],
   "source": [
    "num=0\n",
    "print(\"Guess the hidden number between 1 and 100.\")\n",
    "print(\"Enter your guess.\")\n",
    "while num!=52:\n",
    "    num=int(input())\n",
    "    if num<0 or num>100:\n",
    "        print(\"Your guess was not valid. Enter it again.\")\n",
    "    elif num<52 :\n",
    "        print(\"Your guess is too low. Try again.\")\n",
    "    elif num>52 :\n",
    "        print(\"Your guess is too high. Try again.\")\n",
    "        \n",
    "if num==52:\n",
    "    print(\"Correct! Well Done.\")\n",
    " "
   ]
  },
  {
   "cell_type": "markdown",
   "metadata": {},
   "source": [
    "**Program 44- Average temperature (part 2)**"
   ]
  },
  {
   "cell_type": "code",
   "execution_count": 4,
   "metadata": {},
   "outputs": [
    {
     "name": "stdout",
     "output_type": "stream",
     "text": [
      "Week 1\n",
      "Please enter the seven temperatures.\n",
      "12\n",
      "14\n",
      "7\n",
      "6\n",
      "66\n",
      "Temperature should be between -40 and 55\n",
      "7\n",
      "11\n",
      "11\n",
      "9.71\n",
      "Week 2\n",
      "Please enter the seven temperatures.\n",
      "13\n",
      "3\n",
      "4\n",
      "5\n",
      "67\n",
      "Temperature should be between -40 and 55\n",
      "54\n",
      "33\n",
      "21\n",
      "Week 3\n",
      "Please enter the seven temperatures.\n",
      "23\n",
      "43\n",
      "67\n",
      "Temperature should be between -40 and 55\n",
      "13\n",
      "15\n",
      "32\n",
      "34\n",
      "87\n",
      "Temperature should be between -40 and 55\n",
      "12\n",
      "Week 4\n",
      "Please enter the seven temperatures.\n",
      "34\n",
      "43\n",
      "23\n",
      "37\n",
      "38\n",
      "12\n",
      "13\n",
      "\n",
      "\n",
      "Week 1 average was:\n",
      "9.71 degrees centigrade\n",
      "Week 2 average was:\n",
      "19.0 degrees centigrade\n",
      "Week 3 average was:\n",
      "24.57 degrees centigrade\n",
      "Week 4 average was:\n",
      "28.57 degrees centigrade\n"
     ]
    }
   ],
   "source": [
    "print(\"Week 1\")\n",
    "print(\"Please enter the seven temperatures.\")\n",
    "total1=0\n",
    "val1=0\n",
    "for c in range(7):\n",
    "    val1=int(input())\n",
    "    if val1< -40 or val1>55 :\n",
    "      print(\"Temperature should be between -40 and 55\")\n",
    "      val1=int(input())\n",
    "    total1=total1+val1\n",
    "avg1=total1/7\n",
    "print(round(avg1,2))\n",
    "\n",
    "\n",
    "\n",
    "\n",
    "\n",
    "print(\"Week 2\")\n",
    "print(\"Please enter the seven temperatures.\")\n",
    "total2=0\n",
    "val2=0\n",
    "for c in range(7):\n",
    "    val2=int(input())\n",
    "    if val2< -40 or val2>55 :\n",
    "      print(\"Temperature should be between -40 and 55\")\n",
    "      val2=int(input())\n",
    "    total2=total2+val2\n",
    "avg2=total2/7\n",
    "\n",
    "\n",
    "\n",
    "\n",
    "print(\"Week 3\")\n",
    "print(\"Please enter the seven temperatures.\")\n",
    "total3=0\n",
    "val3=0\n",
    "for c in range(7):\n",
    "    val3=int(input())\n",
    "    if val3< -40 or val3>55 :\n",
    "      print(\"Temperature should be between -40 and 55\")\n",
    "      val3=int(input())\n",
    "    total3=total3+val3\n",
    "avg3=total3/7\n",
    "\n",
    "\n",
    "\n",
    "print(\"Week 4\")\n",
    "print(\"Please enter the seven temperatures.\")\n",
    "total4=0\n",
    "val4=0\n",
    "for c in range(7):\n",
    "    val4=int(input())\n",
    "    if val4< -40 or val4>55 :\n",
    "      print(\"Temperature should be between -40 and 55\")\n",
    "      val4=int(input())\n",
    "    total4=total4+val4\n",
    "avg4=total4/7\n",
    "\n",
    "print(\"\\n\")\n",
    "\n",
    "print(\"Week 1 average was:\")\n",
    "print(round(avg1,2),\"degrees centigrade\")\n",
    "print(\"Week 2 average was:\")\n",
    "print(round(avg2,2),\"degrees centigrade\")\n",
    "print(\"Week 3 average was:\")\n",
    "print(round(avg3,2),\"degrees centigrade\")\n",
    "print(\"Week 4 average was:\")\n",
    "print(round(avg4,2),\"degrees centigrade\")\n"
   ]
  },
  {
   "cell_type": "markdown",
   "metadata": {},
   "source": [
    "**Program 45- Pailwater darts tournament**"
   ]
  },
  {
   "cell_type": "code",
   "execution_count": 7,
   "metadata": {},
   "outputs": [
    {
     "name": "stdout",
     "output_type": "stream",
     "text": [
      "Please enter the scores for player one\n",
      "34\n",
      "26\n",
      "200\n",
      "Invalid score\n",
      "100\n",
      "\n",
      "\n",
      "Please enter the scores for player two\n",
      "78\n",
      "80\n",
      "97\n",
      "\n",
      "\n",
      "Player one scored the highest individual score.\n",
      "Player one wins!!\n"
     ]
    }
   ],
   "source": [
    "print(\"Please enter the scores for player one\")\n",
    "max1=0\n",
    "for c in range(3):\n",
    "    scr1=int(input())\n",
    "    if scr1<0 or scr1>180:\n",
    "        print(\"Invalid score\")\n",
    "        scr1=int(input())\n",
    "    if scr1>max1 :\n",
    "        max1=scr1\n",
    "print(\"\\n\")\n",
    "        \n",
    "print(\"Please enter the scores for player two\")\n",
    "max2=0\n",
    "for c in range(3):\n",
    "    scr2=int(input())\n",
    "    if scr2<0 or scr2>180:\n",
    "        print(\"Invalid score\")\n",
    "        scr2=int(input())\n",
    "    if scr2>max2 :\n",
    "        max2=scr2\n",
    "\n",
    "print(\"\\n\")\n",
    "        \n",
    "if max1>max2:\n",
    " print(\"Player one scored the highest individual score.\",\"Player one wins!!\",sep=\"\\n\")\n",
    "else:\n",
    "  print(\"Player two scored the highest individual score.\",\"Player two wins!!\",sep=\"\\n\")   "
   ]
  },
  {
   "cell_type": "code",
   "execution_count": null,
   "metadata": {},
   "outputs": [],
   "source": []
  }
 ],
 "metadata": {
  "kernelspec": {
   "display_name": "Python 3",
   "language": "python",
   "name": "python3"
  },
  "language_info": {
   "codemirror_mode": {
    "name": "ipython",
    "version": 3
   },
   "file_extension": ".py",
   "mimetype": "text/x-python",
   "name": "python",
   "nbconvert_exporter": "python",
   "pygments_lexer": "ipython3",
   "version": "3.7.7"
  }
 },
 "nbformat": 4,
 "nbformat_minor": 4
}
